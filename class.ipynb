{
 "cells": [
  {
   "cell_type": "code",
   "execution_count": 4,
   "metadata": {},
   "outputs": [],
   "source": [
    "class Human:\n",
    "    def __init__(self, n, o):\n",
    "        self.name = n\n",
    "        self.occupation = o\n",
    "        \n",
    "    def do_work(self):\n",
    "        if self.occupation == \"tennis player\":\n",
    "            print(self.name,\"play tennis\")\n",
    "        elif self.occupation == \"actor\":\n",
    "            print(self.name,\"shoot a film\")\n",
    "            \n",
    "    def speaks(self):\n",
    "        print(self.name,\"says how are you?\")"
   ]
  },
  {
   "cell_type": "code",
   "execution_count": 5,
   "metadata": {},
   "outputs": [],
   "source": [
    "nashit = Human(\"Nashit\",\"actor\")"
   ]
  },
  {
   "cell_type": "code",
   "execution_count": 6,
   "metadata": {},
   "outputs": [
    {
     "name": "stdout",
     "output_type": "stream",
     "text": [
      "Nashit shoot a film\n"
     ]
    }
   ],
   "source": [
    "nashit.do_work()"
   ]
  },
  {
   "cell_type": "code",
   "execution_count": 8,
   "metadata": {},
   "outputs": [
    {
     "name": "stdout",
     "output_type": "stream",
     "text": [
      "Nashit says how are you?\n"
     ]
    }
   ],
   "source": [
    "nashit.speaks()"
   ]
  },
  {
   "cell_type": "code",
   "execution_count": 9,
   "metadata": {},
   "outputs": [],
   "source": [
    "sham = Human(\"sham\",\"tennis player\")"
   ]
  },
  {
   "cell_type": "code",
   "execution_count": 11,
   "metadata": {},
   "outputs": [
    {
     "name": "stdout",
     "output_type": "stream",
     "text": [
      "sham play tennis\n",
      "sham says how are you?\n"
     ]
    }
   ],
   "source": [
    "sham.do_work()\n",
    "sham.speaks()"
   ]
  },
  {
   "cell_type": "code",
   "execution_count": null,
   "metadata": {},
   "outputs": [],
   "source": []
  }
 ],
 "metadata": {
  "kernelspec": {
   "display_name": "Python 3",
   "language": "python",
   "name": "python3"
  },
  "language_info": {
   "codemirror_mode": {
    "name": "ipython",
    "version": 3
   },
   "file_extension": ".py",
   "mimetype": "text/x-python",
   "name": "python",
   "nbconvert_exporter": "python",
   "pygments_lexer": "ipython3",
   "version": "3.7.3"
  }
 },
 "nbformat": 4,
 "nbformat_minor": 2
}
